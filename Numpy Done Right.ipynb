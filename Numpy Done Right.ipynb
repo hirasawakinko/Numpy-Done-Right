{
 "cells": [
  {
   "cell_type": "markdown",
   "id": "0acc9263-b63d-40a2-b77a-acf487bf6d78",
   "metadata": {
    "execution": {
     "iopub.execute_input": "2023-03-30T22:13:40.061896Z",
     "iopub.status.busy": "2023-03-30T22:13:40.060900Z",
     "iopub.status.idle": "2023-03-30T22:13:40.095896Z",
     "shell.execute_reply": "2023-03-30T22:13:40.095896Z",
     "shell.execute_reply.started": "2023-03-30T22:13:40.061896Z"
    }
   },
   "source": [
    "# Python Done Wrong"
   ]
  },
  {
   "cell_type": "code",
   "execution_count": 1,
   "id": "5a80677e-a693-4be1-be53-e7ccc920fabe",
   "metadata": {
    "execution": {
     "iopub.execute_input": "2023-03-30T22:17:02.108271Z",
     "iopub.status.busy": "2023-03-30T22:17:02.108271Z",
     "iopub.status.idle": "2023-03-30T22:17:02.251343Z",
     "shell.execute_reply": "2023-03-30T22:17:02.250820Z",
     "shell.execute_reply.started": "2023-03-30T22:17:02.108271Z"
    }
   },
   "outputs": [],
   "source": [
    "#https://github.com/ohadravid/poly-match/blob/main/poly_match_v1.py\n",
    "from functools import cached_property\n",
    "from typing import List, Tuple\n",
    "import numpy as np\n",
    "from dataclasses import dataclass\n",
    "\n",
    "Point = np.array\n",
    "\n",
    "\n",
    "@dataclass\n",
    "class Polygon:\n",
    "    x: np.array\n",
    "    y: np.array\n",
    "    _area: float = None\n",
    "\n",
    "    @cached_property\n",
    "    def center(self) -> np.array:\n",
    "        centroid = np.array([self.x, self.y]).mean(axis=1)\n",
    "        return centroid\n",
    "\n",
    "    def area(self) -> float:\n",
    "        if self._area is None:\n",
    "            self._area = 0.5 * np.abs(\n",
    "                np.dot(self.x, np.roll(self.y, 1)) - np.dot(self.y, np.roll(self.x, 1))\n",
    "            )\n",
    "        return self._area\n",
    "\n",
    "\n",
    "def generate_one_polygon() -> Polygon:\n",
    "    x = np.arange(0.0, 1.0, 0.1)\n",
    "    y = np.sqrt(1.0 - x**2)\n",
    "    return Polygon(x=x, y=y)\n",
    "\n",
    "\n",
    "def generate_example() -> Tuple[List[Polygon], List[np.array]]:\n",
    "    rng = np.random.RandomState(6)\n",
    "    xs = np.arange(0.0, 100.0, 1.0)\n",
    "    rng.shuffle(xs)\n",
    "\n",
    "    ys = np.arange(0.0, 100.0, 1.0)\n",
    "    rng.shuffle(ys)\n",
    "\n",
    "    points = [np.array([x, y]) for x, y in zip(xs, ys)]\n",
    "\n",
    "    ex_poly = generate_one_polygon()\n",
    "    polygons = [\n",
    "        Polygon(\n",
    "            x=ex_poly.x + rng.randint(0.0, 100.0),\n",
    "            y=ex_poly.y + rng.randint(0.0, 100.0),\n",
    "        )\n",
    "        for _ in range(1000)\n",
    "    ]\n",
    "\n",
    "    return polygons, points\n",
    "\n",
    "\n",
    "def find_close_polygons(\n",
    "    polygon_subset: List[Polygon], point: np.array, max_dist: float\n",
    ") -> List[Polygon]:\n",
    "    close_polygons = []\n",
    "    for poly in polygon_subset:\n",
    "        if np.linalg.norm(poly.center - point) < max_dist:\n",
    "            close_polygons.append(poly)\n",
    "\n",
    "    return close_polygons\n",
    "\n",
    "\n",
    "def select_best_polygon(\n",
    "    polygon_sets: List[Tuple[Point, List[Polygon]]]\n",
    ") -> List[Tuple[Point, Polygon]]:\n",
    "    best_polygons = []\n",
    "    for point, polygons in polygon_sets:\n",
    "        best_polygon = polygons[0]\n",
    "\n",
    "        for poly in polygons:\n",
    "            if poly.area() < best_polygon.area():\n",
    "                best_polygon = poly\n",
    "\n",
    "        best_polygons.append((point, best_polygon))\n",
    "\n",
    "    return best_polygons\n",
    "\n",
    "\n",
    "def main(polygons: List[Polygon], points: np.ndarray) -> List[Tuple[Point, Polygon]]:\n",
    "    max_dist = 10.0\n",
    "    polygon_sets = []\n",
    "    for point in points:\n",
    "        close_polygons = find_close_polygons(polygons, point, max_dist)\n",
    "\n",
    "        if len(close_polygons) == 0:\n",
    "            continue\n",
    "\n",
    "        polygon_sets.append((point, close_polygons))\n",
    "\n",
    "    best_polygons = select_best_polygon(polygon_sets)\n",
    "\n",
    "    return best_polygons\n",
    "\n",
    "\n",
    "\n",
    "polygons, points = generate_example()\n"
   ]
  },
  {
   "cell_type": "code",
   "execution_count": 2,
   "id": "82de908b-0449-4dba-9eb5-a1285a054c6b",
   "metadata": {
    "execution": {
     "iopub.execute_input": "2023-03-30T22:17:02.253344Z",
     "iopub.status.busy": "2023-03-30T22:17:02.253344Z",
     "iopub.status.idle": "2023-03-30T22:17:05.070290Z",
     "shell.execute_reply": "2023-03-30T22:17:05.070290Z",
     "shell.execute_reply.started": "2023-03-30T22:17:02.253344Z"
    }
   },
   "outputs": [
    {
     "name": "stdout",
     "output_type": "stream",
     "text": [
      "340 ms ± 529 µs per loop (mean ± std. dev. of 7 runs, 1 loop each)\n"
     ]
    }
   ],
   "source": [
    "%%timeit\n",
    "best_polygons = main(polygons, points)"
   ]
  },
  {
   "cell_type": "markdown",
   "id": "fba46b12-de79-4537-8293-3cae9b763c4e",
   "metadata": {},
   "source": [
    "# Numpy Done Wrong"
   ]
  },
  {
   "cell_type": "code",
   "execution_count": 3,
   "id": "61e2f9d6-50c3-41ab-8704-3bae425fe992",
   "metadata": {
    "execution": {
     "iopub.execute_input": "2023-03-30T22:17:05.072291Z",
     "iopub.status.busy": "2023-03-30T22:17:05.071292Z",
     "iopub.status.idle": "2023-03-30T22:17:05.134289Z",
     "shell.execute_reply": "2023-03-30T22:17:05.134289Z",
     "shell.execute_reply.started": "2023-03-30T22:17:05.072291Z"
    },
    "tags": []
   },
   "outputs": [],
   "source": [
    "# https://github.com/ohadravid/poly-match/blob/main/poly_match_v1_5_vectorized.py\n",
    "from functools import cache, cached_property\n",
    "from typing import Dict, List, Tuple\n",
    "import numpy as np\n",
    "from dataclasses import dataclass\n",
    "\n",
    "\n",
    "Point = np.array\n",
    "\n",
    "\n",
    "@dataclass\n",
    "class Polygon:\n",
    "    x: np.array\n",
    "    y: np.array\n",
    "    _area: float = None\n",
    "\n",
    "    @cached_property\n",
    "    def center(self) -> np.array:\n",
    "        centroid = np.array([self.x, self.y]).mean(axis=1)\n",
    "        return centroid\n",
    "\n",
    "    def area(self) -> float:\n",
    "        if self._area is None:\n",
    "            self._area = 0.5 * np.abs(\n",
    "                np.dot(self.x, np.roll(self.y, 1)) - np.dot(self.y, np.roll(self.x, 1))\n",
    "            )\n",
    "        return self._area\n",
    "\n",
    "\n",
    "def generate_one_polygon() -> Polygon:\n",
    "    x = np.arange(0.0, 1.0, 0.1)\n",
    "    y = np.sqrt(1.0 - x**2)\n",
    "    return Polygon(x=x, y=y)\n",
    "\n",
    "\n",
    "def generate_example() -> Tuple[List[Polygon], List[np.array]]:\n",
    "    rng = np.random.RandomState(6)\n",
    "    xs = np.arange(0.0, 100.0, 1.0)\n",
    "    rng.shuffle(xs)\n",
    "\n",
    "    ys = np.arange(0.0, 100.0, 1.0)\n",
    "    rng.shuffle(ys)\n",
    "\n",
    "    points = [np.array([x, y]) for x, y in zip(xs, ys)]\n",
    "\n",
    "    ex_poly = generate_one_polygon()\n",
    "    polygons = [\n",
    "        Polygon(\n",
    "            x=ex_poly.x + rng.randint(0.0, 100.0),\n",
    "            y=ex_poly.y + rng.randint(0.0, 100.0),\n",
    "        )\n",
    "        for _ in range(1000)\n",
    "    ]\n",
    "\n",
    "    return polygons, points\n",
    "\n",
    "\n",
    "def find_close_polygons(\n",
    "    point_idx: int, polygon_to_points_dist: Dict[int, np.array], max_dist: float\n",
    ") -> List[Polygon]:\n",
    "    close_polygons = []\n",
    "    for poly, points_dist in polygon_to_points_dist.items():\n",
    "        if points_dist[point_idx] < max_dist:\n",
    "            close_polygons.append(poly)\n",
    "\n",
    "    return close_polygons\n",
    "\n",
    "\n",
    "def select_best_polygon(\n",
    "    polygon_sets: List[Tuple[Point, List[Polygon]]]\n",
    ") -> List[Tuple[Point, Polygon]]:\n",
    "    best_polygons = []\n",
    "    for point, polygons in polygon_sets:\n",
    "        best_polygon = polygons[0]\n",
    "\n",
    "        for poly in polygons:\n",
    "            if poly.area() < best_polygon.area():\n",
    "                best_polygon = poly\n",
    "\n",
    "        best_polygons.append((point, best_polygon))\n",
    "\n",
    "    return best_polygons\n",
    "\n",
    "\n",
    "def find_dist_to_points(polygon: Polygon, points: np.ndarray) -> np.ndarray:\n",
    "    return np.linalg.norm(polygon.center - points, axis=1)\n",
    "\n",
    "\n",
    "def main(polygons: List[Polygon], points: np.ndarray) -> List[Tuple[Point, Polygon]]:\n",
    "    max_dist = 10.0\n",
    "    polygon_to_points_dist = {}\n",
    "\n",
    "    for polygon_idx, polygon in enumerate(polygons):\n",
    "        polygon_to_points_dist[polygon_idx] = find_dist_to_points(polygon, points)\n",
    "    #============\n",
    "    polygon_sets = []\n",
    "    #============\n",
    "    for point_idx, point in enumerate(points):\n",
    "        close_polygons_indices = find_close_polygons(point_idx, polygon_to_points_dist, max_dist)\n",
    "        if len(close_polygons_indices) == 0:\n",
    "            continue\n",
    "        close_polygons = [polygons[idx] for idx in close_polygons_indices]\n",
    "        polygon_sets.append((point, close_polygons))\n",
    "\n",
    "    best_polygons = select_best_polygon(polygon_sets)\n",
    "\n",
    "    return best_polygons\n",
    "\n",
    "polygons, points = generate_example()\n"
   ]
  },
  {
   "cell_type": "code",
   "execution_count": 4,
   "id": "2453ad03-32c5-4cd1-9473-d8dca461b5bf",
   "metadata": {
    "execution": {
     "iopub.execute_input": "2023-03-30T22:17:05.136292Z",
     "iopub.status.busy": "2023-03-30T22:17:05.135290Z",
     "iopub.status.idle": "2023-03-30T22:17:08.973519Z",
     "shell.execute_reply": "2023-03-30T22:17:08.973519Z",
     "shell.execute_reply.started": "2023-03-30T22:17:05.136292Z"
    }
   },
   "outputs": [
    {
     "name": "stdout",
     "output_type": "stream",
     "text": [
      "46.5 ms ± 231 µs per loop (mean ± std. dev. of 7 runs, 10 loops each)\n"
     ]
    }
   ],
   "source": [
    "%%timeit\n",
    "best_polygons = main(polygons, points)"
   ]
  },
  {
   "cell_type": "markdown",
   "id": "d52cc461-757f-4f66-9ab4-277de1210416",
   "metadata": {},
   "source": [
    "# Numpy Done Right"
   ]
  },
  {
   "cell_type": "code",
   "execution_count": 5,
   "id": "1086c1ed-b5e4-4d39-8d9f-c983f3ae9308",
   "metadata": {
    "execution": {
     "iopub.execute_input": "2023-03-30T22:17:08.975523Z",
     "iopub.status.busy": "2023-03-30T22:17:08.974522Z",
     "iopub.status.idle": "2023-03-30T22:17:09.020520Z",
     "shell.execute_reply": "2023-03-30T22:17:09.020520Z",
     "shell.execute_reply.started": "2023-03-30T22:17:08.975523Z"
    },
    "tags": []
   },
   "outputs": [],
   "source": [
    "from operator import itemgetter as itg\n",
    "from collections import defaultdict as ddict\n",
    "import numpy as np\n",
    "from line_profiler import LineProfiler\n",
    "\n",
    "#profile = LineProfiler()\n",
    "\n",
    "\n",
    "def make_points_2D():\n",
    "    X = np.arange(0, 100, dtype='float32')\n",
    "    Y = X.copy()\n",
    "    np.random.shuffle(X)\n",
    "    np.random.shuffle(Y)\n",
    "    return np.vstack([X, Y]).T\n",
    "\n",
    "\n",
    "def make_ref_polygon():\n",
    "    X_ref = np.arange(0, 1, 0.1, dtype=\"float32\")\n",
    "    Y_ref = 1 - X_ref**2\n",
    "    return np.vstack([X_ref, Y_ref]).T\n",
    "\n",
    "\n",
    "def make_polygons(ref_polygon=make_ref_polygon()):\n",
    "    random_samples_2D = np.random.randint(0, 100, size=(1000, 2)).astype(\"float32\")\n",
    "    random_samples_2D[:10]\n",
    "    # XY_ref.shape = (10, 2), and we want 1000 polygons\n",
    "    # Transpose to allows for broadcasting\n",
    "    shiftings = np.broadcast_to(ref_polygon, (1000, 10, 2)).transpose(1, 0, 2)\n",
    "    polygons = (random_samples_2D + shiftings).transpose(1, 0, 2)\n",
    "    return polygons\n",
    "\n",
    "\n",
    "#@profile\n",
    "def done_right(points, polygons):\n",
    "    #=== Get point of center of each polygon\n",
    "    # Take X.mean and Y.mean\n",
    "    polygons_centeroid = polygons.mean(axis=-2)  # shape=(1000,)\n",
    "\n",
    "    #=== Find distances bewteen polygons and points\n",
    "    points_grid = np.broadcast_to(points, (1000, 100, 2)).transpose(1, 0, 2)  # shape=(100, 1000, 2)\n",
    "    polygons_points_distances = np.linalg.norm( (polygons_centeroid - points_grid)**2 , axis=-1)  # shape=(100, 1000)\n",
    "    # (X, Y) axis is merged. left only points and polygon axis\n",
    "    polygons_points_distances = polygons_points_distances.transpose(1, 0)  # shape=(1000, 100)\n",
    "\n",
    "    #=== But first need to calculate Areas for polygons\n",
    "    polygons_x = polygons[:, :, 0]  # shape=(1000, 10)\n",
    "    polygons_y = polygons[:, :, 1]  # shape=(1000, 10)\n",
    "    polygons_areas = 0.5 * (\n",
    "        (polygons_x * np.roll(polygons_y, 1, axis=-1)).sum(axis=-1)\n",
    "        - (polygons_y * np.roll(polygons_x, 1, axis=-1)).sum(axis=-1)\n",
    "    )    # shape=(1000,)\n",
    "    #=== Find all polygons that is near by a certain point\n",
    "    neighbour_points = np.where(\n",
    "        polygons_points_distances < 10,  # shape=(1000, 100)\n",
    "        np.broadcast_to(polygons_areas, (100, 1000)).T,  # shape=(1000, 100)\n",
    "        0)  # shape=(1000, 100)\n",
    "    best_pairs = np.argmax(neighbour_points, axis=0)  # shape=(100,)\n",
    "    return best_pairs\n",
    "\n",
    "\n",
    "np.random.seed(6)\n",
    "mypoints = make_points_2D()\n",
    "mypolygons = make_polygons()\n",
    "#profile.print_stats(output_unit=0.001)"
   ]
  },
  {
   "cell_type": "code",
   "execution_count": 6,
   "id": "b5c2e57d-4712-4454-9820-b3f1e059c08f",
   "metadata": {
    "execution": {
     "iopub.execute_input": "2023-03-30T22:17:09.021522Z",
     "iopub.status.busy": "2023-03-30T22:17:09.021522Z",
     "iopub.status.idle": "2023-03-30T22:17:17.086868Z",
     "shell.execute_reply": "2023-03-30T22:17:17.086868Z",
     "shell.execute_reply.started": "2023-03-30T22:17:09.021522Z"
    },
    "tags": []
   },
   "outputs": [
    {
     "name": "stdout",
     "output_type": "stream",
     "text": [
      "973 µs ± 9.33 µs per loop (mean ± std. dev. of 7 runs, 1,000 loops each)\n"
     ]
    }
   ],
   "source": [
    "%%timeit\n",
    "best_pairs = done_right(mypoints, mypolygons)"
   ]
  },
  {
   "cell_type": "code",
   "execution_count": 8,
   "id": "0fd731e4-cc42-4436-8152-b93ed48c18ac",
   "metadata": {
    "execution": {
     "iopub.execute_input": "2023-03-30T22:18:32.508366Z",
     "iopub.status.busy": "2023-03-30T22:18:32.508366Z",
     "iopub.status.idle": "2023-03-30T22:18:32.545366Z",
     "shell.execute_reply": "2023-03-30T22:18:32.545366Z",
     "shell.execute_reply.started": "2023-03-30T22:18:32.508366Z"
    },
    "tags": []
   },
   "outputs": [
    {
     "name": "stdout",
     "output_type": "stream",
     "text": [
      "Python Done Wrong vs Numpy Done Right : 349.43473792394656X\n",
      "Numpy  Done Wrong vs Numpy Done Right : 47.79033915724563X\n"
     ]
    }
   ],
   "source": [
    "print(f\"Python Done Wrong vs Numpy Done Right : {340 /0.973}X\")\n",
    "print(f\"Numpy  Done Wrong vs Numpy Done Right : {46.5 /0.973}X\")"
   ]
  },
  {
   "cell_type": "code",
   "execution_count": null,
   "id": "586fa804-1acc-4050-890e-e96c36da4ed6",
   "metadata": {},
   "outputs": [],
   "source": []
  }
 ],
 "metadata": {
  "kernelspec": {
   "display_name": "mkl",
   "language": "python",
   "name": "mkl"
  },
  "language_info": {
   "codemirror_mode": {
    "name": "ipython",
    "version": 3
   },
   "file_extension": ".py",
   "mimetype": "text/x-python",
   "name": "python",
   "nbconvert_exporter": "python",
   "pygments_lexer": "ipython3",
   "version": "3.10.4"
  }
 },
 "nbformat": 4,
 "nbformat_minor": 5
}
